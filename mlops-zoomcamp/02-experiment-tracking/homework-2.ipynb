{
 "cells": [
  {
   "attachments": {},
   "cell_type": "markdown",
   "metadata": {},
   "source": [
    "## MLOPS ZoomCamp - Week 2\n",
    "- [Questions](https://github.com/DataTalksClub/mlops-zoomcamp/blob/main/cohorts/2023/02-experiment-tracking/homework.md)"
   ]
  },
  {
   "attachments": {},
   "cell_type": "markdown",
   "metadata": {},
   "source": [
    "### Q1. MLFlow version"
   ]
  },
  {
   "cell_type": "code",
   "execution_count": 1,
   "metadata": {},
   "outputs": [
    {
     "name": "stdout",
     "output_type": "stream",
     "text": [
      "mlflow, version 2.3.2\n"
     ]
    }
   ],
   "source": [
    "!mlflow --version"
   ]
  },
  {
   "attachments": {},
   "cell_type": "markdown",
   "metadata": {},
   "source": [
    "### Q2. Downloading the Data"
   ]
  },
  {
   "cell_type": "code",
   "execution_count": 5,
   "metadata": {},
   "outputs": [],
   "source": [
    "data_url = \"https://d37ci6vzurychx.cloudfront.net/trip-data/green_tripdata_2022-\"\n",
    "jan, feb, mar = \"01.parquet\", \"02.parquet\", \"03.parquet\"\n",
    "out_dir = \"../data/hw2-data/green_tripdata_2022-\"\n",
    "\n",
    "for file in [jan, feb, mar]:\n",
    "    !wget {data_url}{file} -O {out_dir}{file} -q\n"
   ]
  },
  {
   "cell_type": "code",
   "execution_count": 6,
   "metadata": {},
   "outputs": [],
   "source": [
    "!python hw-utils/preprocess_data.py --raw_data_path ../data/hw2-data/ --dest_path ./output"
   ]
  },
  {
   "cell_type": "code",
   "execution_count": 8,
   "metadata": {},
   "outputs": [
    {
     "name": "stdout",
     "output_type": "stream",
     "text": [
      "total 7.0M\n",
      "drwxr-xr-x 1 uditm 197609    0 May 31 13:47 .\n",
      "drwxr-xr-x 1 uditm 197609    0 May 31 13:47 ..\n",
      "-rw-r--r-- 1 uditm 197609 151K May 31 13:47 dv.pkl\n",
      "-rw-r--r-- 1 uditm 197609 2.6M May 31 13:47 test.pkl\n",
      "-rw-r--r-- 1 uditm 197609 2.1M May 31 13:47 train.pkl\n",
      "-rw-r--r-- 1 uditm 197609 2.3M May 31 13:47 val.pkl\n"
     ]
    }
   ],
   "source": [
    "!ls -lah ./output"
   ]
  },
  {
   "attachments": {},
   "cell_type": "markdown",
   "metadata": {},
   "source": [
    "### Q3. Train model with autolog"
   ]
  },
  {
   "cell_type": "code",
   "execution_count": 18,
   "metadata": {},
   "outputs": [
    {
     "name": "stdout",
     "output_type": "stream",
     "text": [
      "    21\tdef run_train(data_path: str):\n",
      "    22\t    mlflow.sklearn.autolog()\n",
      "    23\t    X_train, y_train = load_pickle(os.path.join(data_path, \"train.pkl\"))\n",
      "    24\t    X_val, y_val = load_pickle(os.path.join(data_path, \"val.pkl\"))\n",
      "    25\t\n",
      "    26\t    rf = RandomForestRegressor(max_depth=10, random_state=0)\n",
      "    27\t    with mlflow.start_run():\n",
      "    28\t        rf.fit(X_train, y_train)\n",
      "    29\t    y_pred = rf.predict(X_val)\n",
      "    30\t\n",
      "    31\t    rmse = mean_squared_error(y_val, y_pred, squared=False)\n"
     ]
    }
   ],
   "source": [
    "# check updated script\n",
    "# !cat hw-utils/train.py\n",
    "!cat -n hw-utils/train.py | sed '21,31!d'"
   ]
  },
  {
   "cell_type": "code",
   "execution_count": 19,
   "metadata": {},
   "outputs": [
    {
     "name": "stderr",
     "output_type": "stream",
     "text": [
      "2023/05/31 14:28:09 WARNING mlflow.utils.autologging_utils: MLflow autologging encountered a warning: \"c:\\Users\\uditm\\miniconda3\\envs\\mlops-zc\\lib\\site-packages\\_distutils_hack\\__init__.py:33: UserWarning: Setuptools is replacing distutils.\"\n"
     ]
    }
   ],
   "source": [
    "!python hw-utils/train.py "
   ]
  },
  {
   "cell_type": "code",
   "execution_count": 20,
   "metadata": {},
   "outputs": [],
   "source": [
    "# RUN COMMAND IN TERMINAL\n",
    "# mlflow ui\n",
    "# Navigate to experiment and inside params check max_depth\n",
    "\n",
    "# Hint: max_depth = 10"
   ]
  },
  {
   "attachments": {},
   "cell_type": "markdown",
   "metadata": {},
   "source": [
    "### Q4. Tune model hyperparameters"
   ]
  },
  {
   "cell_type": "code",
   "execution_count": 21,
   "metadata": {},
   "outputs": [
    {
     "name": "stdout",
     "output_type": "stream",
     "text": [
      "    45\t        with mlflow.start_run():\n",
      "    46\t            mlflow.log_params(params)\n",
      "    47\t            rf = RandomForestRegressor(**params)\n",
      "    48\t            rf.fit(X_train, y_train)\n",
      "    49\t            y_pred = rf.predict(X_val)\n",
      "    50\t            rmse = mean_squared_error(y_val, y_pred, squared=False)\n",
      "    51\t            mlflow.log_metric(\"RMSE\", rmse)\n"
     ]
    }
   ],
   "source": [
    "# check updated script\n",
    "!cat -n hw-utils/hpo.py | sed '45,51!d'"
   ]
  },
  {
   "cell_type": "code",
   "execution_count": 22,
   "metadata": {},
   "outputs": [
    {
     "name": "stderr",
     "output_type": "stream",
     "text": [
      "2023/05/31 14:47:34 INFO mlflow.tracking.fluent: Experiment with name 'random-forest-hyperopt' does not exist. Creating a new experiment.\n",
      "[I 2023-05-31 14:47:34,364] A new study created in memory with name: no-name-576b7200-b8c0-4110-9e52-e67b6530d4e9\n",
      "[I 2023-05-31 14:47:36,474] Trial 0 finished with value: 2.451379690825458 and parameters: {'n_estimators': 25, 'max_depth': 20, 'min_samples_split': 8, 'min_samples_leaf': 3}. Best is trial 0 with value: 2.451379690825458.\n",
      "[I 2023-05-31 14:47:36,759] Trial 1 finished with value: 2.4667366020368333 and parameters: {'n_estimators': 16, 'max_depth': 4, 'min_samples_split': 2, 'min_samples_leaf': 4}. Best is trial 0 with value: 2.451379690825458.\n",
      "[I 2023-05-31 14:47:38,635] Trial 2 finished with value: 2.449827329704216 and parameters: {'n_estimators': 34, 'max_depth': 15, 'min_samples_split': 2, 'min_samples_leaf': 4}. Best is trial 2 with value: 2.449827329704216.\n",
      "[I 2023-05-31 14:47:39,339] Trial 3 finished with value: 2.460983516558473 and parameters: {'n_estimators': 44, 'max_depth': 5, 'min_samples_split': 3, 'min_samples_leaf': 1}. Best is trial 2 with value: 2.449827329704216.\n",
      "[I 2023-05-31 14:47:40,205] Trial 4 finished with value: 2.453877262701052 and parameters: {'n_estimators': 22, 'max_depth': 11, 'min_samples_split': 5, 'min_samples_leaf': 2}. Best is trial 2 with value: 2.449827329704216.\n",
      "[I 2023-05-31 14:47:40,586] Trial 5 finished with value: 2.4720122094960733 and parameters: {'n_estimators': 35, 'max_depth': 3, 'min_samples_split': 4, 'min_samples_leaf': 2}. Best is trial 2 with value: 2.449827329704216.\n",
      "[I 2023-05-31 14:47:42,464] Trial 6 finished with value: 2.4516421799356767 and parameters: {'n_estimators': 28, 'max_depth': 16, 'min_samples_split': 3, 'min_samples_leaf': 3}. Best is trial 2 with value: 2.449827329704216.\n",
      "[I 2023-05-31 14:47:42,677] Trial 7 finished with value: 2.5374040268274087 and parameters: {'n_estimators': 34, 'max_depth': 1, 'min_samples_split': 7, 'min_samples_leaf': 1}. Best is trial 2 with value: 2.449827329704216.\n",
      "[I 2023-05-31 14:47:43,582] Trial 8 finished with value: 2.455971238567075 and parameters: {'n_estimators': 12, 'max_depth': 19, 'min_samples_split': 10, 'min_samples_leaf': 4}. Best is trial 2 with value: 2.449827329704216.\n",
      "[I 2023-05-31 14:47:43,799] Trial 9 finished with value: 2.486106021576535 and parameters: {'n_estimators': 22, 'max_depth': 2, 'min_samples_split': 8, 'min_samples_leaf': 2}. Best is trial 2 with value: 2.449827329704216.\n"
     ]
    }
   ],
   "source": [
    "!python hw-utils/hpo.py"
   ]
  },
  {
   "attachments": {},
   "cell_type": "markdown",
   "metadata": {},
   "source": [
    "Best `RMSE = 2.45`"
   ]
  },
  {
   "attachments": {},
   "cell_type": "markdown",
   "metadata": {},
   "source": [
    "### Q5. Promote the best model to the model registry"
   ]
  },
  {
   "cell_type": "code",
   "execution_count": 24,
   "metadata": {},
   "outputs": [
    {
     "name": "stdout",
     "output_type": "stream",
     "text": [
      "    72\t    experiment = client.get_experiment_by_name(EXPERIMENT_NAME)\n",
      "    73\t    best_run = client.search_runs(\n",
      "    74\t        experiment_ids=experiment.experiment_id,\n",
      "    75\t        run_view_type=ViewType.ACTIVE_ONLY,\n",
      "    76\t        order_by=[\"metrics.rmse ASC\"]\n",
      "    77\t    )[0]\n",
      "    78\t\n",
      "    79\t    # Register the best model\n",
      "    80\t    run_id = best_run.info.run_id\n",
      "    81\t    model_uri =f\"runs:/{run_id}/model\"\n",
      "    82\t    mlflow.register_model(model_uri=model_uri, name=EXPERIMENT_NAME)\n"
     ]
    }
   ],
   "source": [
    "# check updated script\n",
    "!cat -n hw-utils/register_model.py | sed '72,82!d'"
   ]
  },
  {
   "cell_type": "code",
   "execution_count": 25,
   "metadata": {},
   "outputs": [
    {
     "name": "stderr",
     "output_type": "stream",
     "text": [
      "2023/05/31 16:40:51 INFO mlflow.tracking.fluent: Experiment with name 'random-forest-best-models' does not exist. Creating a new experiment.\n",
      "2023/05/31 16:40:57 WARNING mlflow.utils.autologging_utils: MLflow autologging encountered a warning: \"c:\\Users\\uditm\\miniconda3\\envs\\mlops-zc\\lib\\site-packages\\_distutils_hack\\__init__.py:33: UserWarning: Setuptools is replacing distutils.\"\n",
      "Successfully registered model 'random-forest-best-models'.\n",
      "2023/05/31 16:41:13 INFO mlflow.tracking._model_registry.client: Waiting up to 300 seconds for model version to finish creation. Model name: random-forest-best-models, version 1\n",
      "Created version '1' of model 'random-forest-best-models'.\n"
     ]
    }
   ],
   "source": [
    "!python hw-utils/register_model.py"
   ]
  },
  {
   "cell_type": "code",
   "execution_count": 33,
   "metadata": {},
   "outputs": [
    {
     "name": "stdout",
     "output_type": "stream",
     "text": [
      "2.2913864757421787\n"
     ]
    }
   ],
   "source": [
    "# list best test RMSE\n",
    "import mlflow\n",
    "from mlflow.entities import ViewType\n",
    "\n",
    "EXPERIMENT_NAME = \"random-forest-best-models\"\n",
    "\n",
    "client = mlflow.tracking.MlflowClient()\n",
    "experiment = client.get_experiment_by_name(EXPERIMENT_NAME)\n",
    "best_run = client.search_runs(\n",
    "    experiment_ids=experiment.experiment_id,\n",
    "    run_view_type=ViewType.ACTIVE_ONLY,\n",
    "    order_by=[\"metrics.test_rmse ASC\"]\n",
    ")[0]\n",
    "# print(best_run)\n",
    "print(best_run.data.metrics[\"test_rmse\"])"
   ]
  },
  {
   "attachments": {},
   "cell_type": "markdown",
   "metadata": {},
   "source": [
    "### Q6. Model metadata\n",
    "\n",
    "![Model Registry UI](model-reg-ui.png)"
   ]
  },
  {
   "cell_type": "code",
   "execution_count": null,
   "metadata": {},
   "outputs": [],
   "source": []
  }
 ],
 "metadata": {
  "kernelspec": {
   "display_name": "mlops-zc",
   "language": "python",
   "name": "python3"
  },
  "language_info": {
   "codemirror_mode": {
    "name": "ipython",
    "version": 3
   },
   "file_extension": ".py",
   "mimetype": "text/x-python",
   "name": "python",
   "nbconvert_exporter": "python",
   "pygments_lexer": "ipython3",
   "version": "3.10.11"
  },
  "orig_nbformat": 4
 },
 "nbformat": 4,
 "nbformat_minor": 2
}
