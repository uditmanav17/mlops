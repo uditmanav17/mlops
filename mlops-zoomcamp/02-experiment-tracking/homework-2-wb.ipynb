{
 "cells": [
  {
   "attachments": {},
   "cell_type": "markdown",
   "metadata": {},
   "source": [
    "## MLOPS ZoomCamp - Week 2\n",
    "- [Questions](https://github.com/DataTalksClub/mlops-zoomcamp/blob/main/cohorts/2023/02-experiment-tracking/wandb.md)"
   ]
  },
  {
   "attachments": {},
   "cell_type": "markdown",
   "metadata": {},
   "source": [
    "### Q1. Install the Package"
   ]
  },
  {
   "cell_type": "code",
   "execution_count": 1,
   "metadata": {},
   "outputs": [
    {
     "name": "stdout",
     "output_type": "stream",
     "text": [
      "wandb, version 0.15.3\n"
     ]
    }
   ],
   "source": [
    "!wandb --version"
   ]
  },
  {
   "attachments": {},
   "cell_type": "markdown",
   "metadata": {},
   "source": [
    "### Q2. Download and preprocess the data"
   ]
  },
  {
   "cell_type": "code",
   "execution_count": 2,
   "metadata": {},
   "outputs": [],
   "source": [
    "data_url = \"https://d37ci6vzurychx.cloudfront.net/trip-data/green_tripdata_2022-\"\n",
    "jan, feb, mar = \"01.parquet\", \"02.parquet\", \"03.parquet\"\n",
    "out_dir = \"../data/hw2-data-wb/green_tripdata_2022-\"\n",
    "\n",
    "for file in [jan, feb, mar]:\n",
    "    !wget {data_url}{file} -O {out_dir}{file} -q\n"
   ]
  },
  {
   "cell_type": "code",
   "execution_count": 5,
   "metadata": {},
   "outputs": [
    {
     "name": "stderr",
     "output_type": "stream",
     "text": [
      "Failed to detect the name of this notebook, you can set it manually with the WANDB_NOTEBOOK_NAME environment variable to enable code saving.\n",
      "\u001b[34m\u001b[1mwandb\u001b[0m: W&B API key is configured. Use \u001b[1m`wandb login --relogin`\u001b[0m to force relogin\n",
      "\u001b[34m\u001b[1mwandb\u001b[0m: \u001b[33mWARNING\u001b[0m If you're specifying your api key in code, ensure this code is not shared publicly.\n",
      "\u001b[34m\u001b[1mwandb\u001b[0m: \u001b[33mWARNING\u001b[0m Consider setting the WANDB_API_KEY environment variable, or running `wandb login` from the command line.\n",
      "\u001b[34m\u001b[1mwandb\u001b[0m: Appending key for api.wandb.ai to your netrc file: C:\\Users\\uditm/.netrc\n"
     ]
    },
    {
     "data": {
      "text/plain": [
       "True"
      ]
     },
     "execution_count": 5,
     "metadata": {},
     "output_type": "execute_result"
    }
   ],
   "source": [
    "# configure WandB API Key\n",
    "import wandb\n",
    "from getpass import getpass\n",
    "\n",
    "WANDB_API_KEY = getpass()\n",
    "wandb.login(key=WANDB_API_KEY)"
   ]
  },
  {
   "cell_type": "code",
   "execution_count": 6,
   "metadata": {},
   "outputs": [
    {
     "name": "stderr",
     "output_type": "stream",
     "text": [
      "wandb: Currently logged in as: uditmanav17. Use `wandb login --relogin` to force relogin\n",
      "wandb: Tracking run with wandb version 0.15.3\n",
      "wandb: Run data is saved locally in d:\\Programming\\Git\\mlops\\mlops-zoomcamp\\02-experiment-tracking\\wandb\\run-20230602_120903-6chgnn4x\n",
      "wandb: Run `wandb offline` to turn off syncing.\n",
      "wandb: Syncing run frosty-wave-1\n",
      "wandb:  View project at https://wandb.ai/uditmanav17/mlops-zc-wb\n",
      "wandb:  View run at https://wandb.ai/uditmanav17/mlops-zc-wb/runs/6chgnn4x\n",
      "wandb: Adding directory to artifact (.\\output)... Done. 0.0s\n"
     ]
    }
   ],
   "source": [
    "!python hw-wandb/preprocess_data.py \\\n",
    "    --wandb_project \"mlops-zc-wb\" \\\n",
    "    --wandb_entity \"uditmanav17\" \\\n",
    "    --raw_data_path \"../data/hw2-data-wb/\" \\\n",
    "    --dest_path ./output"
   ]
  },
  {
   "cell_type": "code",
   "execution_count": 9,
   "metadata": {},
   "outputs": [
    {
     "name": "stdout",
     "output_type": "stream",
     "text": [
      "-rw-r--r-- 1 uditm 197609 151K Jun  2 12:09 dv.pkl\n"
     ]
    }
   ],
   "source": [
    "!ls -lah ./output | grep dv.pkl"
   ]
  },
  {
   "attachments": {},
   "cell_type": "markdown",
   "metadata": {},
   "source": [
    "### Q3. Train a model with Weights & Biases logging"
   ]
  },
  {
   "cell_type": "code",
   "execution_count": 10,
   "metadata": {},
   "outputs": [
    {
     "name": "stdout",
     "output_type": "stream",
     "text": [
      "    52\t    mse = mean_squared_error(y_val, y_pred, squared=False)\n",
      "    53\t    # TODO: Log `mse` to Weights & Biases under the key `\"MSE\"`\n",
      "    54\t    wandb.log({\"MSE\": mse})\n",
      "    55\t\n",
      "    56\t    with open(\"regressor.pkl\", \"wb\") as f:\n",
      "    57\t        pickle.dump(rf, f)\n",
      "    58\t\n",
      "    59\t    # TODO: Log `regressor.pkl` as an artifact of type `model`\n",
      "    60\t    artifact_new = wandb.Artifact(name=\"reg-model\", type=\"model\")\n",
      "    61\t    artifact_new.add_file(\"regressor.pkl\")\n",
      "    62\t    wandb.log_artifact(artifact_new)\n"
     ]
    }
   ],
   "source": [
    "# check updated script\n",
    "!cat -n hw-wandb/train.py | sed '52,62!d'"
   ]
  },
  {
   "cell_type": "code",
   "execution_count": 11,
   "metadata": {},
   "outputs": [
    {
     "name": "stderr",
     "output_type": "stream",
     "text": [
      "wandb: Currently logged in as: uditmanav17. Use `wandb login --relogin` to force relogin\n",
      "wandb: Tracking run with wandb version 0.15.3\n",
      "wandb: Run data is saved locally in d:\\Programming\\Git\\mlops\\mlops-zoomcamp\\02-experiment-tracking\\wandb\\run-20230602_131837-rb851p7k\n",
      "wandb: Run `wandb offline` to turn off syncing.\n",
      "wandb: Syncing run comfy-field-2\n",
      "wandb:  View project at https://wandb.ai/uditmanav17/mlops-zc-wb\n",
      "wandb:  View run at https://wandb.ai/uditmanav17/mlops-zc-wb/runs/rb851p7k\n",
      "wandb:   4 of 4 files downloaded.  \n"
     ]
    }
   ],
   "source": [
    "!python hw-wandb/train.py \\\n",
    "  --wandb_project \"mlops-zc-wb\" \\\n",
    "  --wandb_entity \"uditmanav17\" \\\n",
    "  --data_artifact \"uditmanav17/mlops-zc-wb/NYC-Taxi:v0\""
   ]
  },
  {
   "cell_type": "code",
   "execution_count": 15,
   "metadata": {},
   "outputs": [
    {
     "data": {
      "text/plain": [
       "{'max_depth': 10, 'random_state': 0}"
      ]
     },
     "execution_count": 15,
     "metadata": {},
     "output_type": "execute_result"
    }
   ],
   "source": [
    "api = wandb.Api()\n",
    "run = api.run(\"uditmanav17/mlops-zc-wb/rb851p7k\")\n",
    "run.config"
   ]
  },
  {
   "attachments": {},
   "cell_type": "markdown",
   "metadata": {},
   "source": [
    "### Q4. Tune model hyperparameters"
   ]
  },
  {
   "cell_type": "code",
   "execution_count": 16,
   "metadata": {},
   "outputs": [
    {
     "name": "stdout",
     "output_type": "stream",
     "text": [
      "    29\t    rf = RandomForestRegressor(\n",
      "    30\t        max_depth=config.max_depth,\n",
      "    31\t        n_estimators=config.n_estimators,\n",
      "    32\t        min_samples_split=config.min_samples_split,\n",
      "    33\t        min_samples_leaf=config.min_samples_leaf,\n",
      "    34\t        random_state=0,\n",
      "    35\t    )\n"
     ]
    }
   ],
   "source": [
    "# check updated script\n",
    "!cat -n hw-wandb/sweep.py | sed '29,35!d'"
   ]
  },
  {
   "cell_type": "code",
   "execution_count": 18,
   "metadata": {},
   "outputs": [
    {
     "name": "stdout",
     "output_type": "stream",
     "text": [
      "Create sweep with ID: nfnn0efu\n",
      "Sweep URL: https://wandb.ai/uditmanav17/mlops-zc-wb/sweeps/nfnn0efu\n"
     ]
    },
    {
     "name": "stderr",
     "output_type": "stream",
     "text": [
      "wandb: Agent Starting Run: t8tzw8gc with config:\n",
      "wandb: \tmax_depth: 4\n",
      "wandb: \tmin_samples_leaf: 3\n",
      "wandb: \tmin_samples_split: 3\n",
      "wandb: \tn_estimators: 45\n",
      "wandb: Currently logged in as: uditmanav17. Use `wandb login --relogin` to force relogin\n",
      "wandb: - Waiting for wandb.init()...\n",
      "wandb: \\ Waiting for wandb.init()...\n",
      "wandb: Tracking run with wandb version 0.15.3\n",
      "wandb: Run data is saved locally in d:\\Programming\\Git\\mlops\\mlops-zoomcamp\\02-experiment-tracking\\wandb\\run-20230602_134948-t8tzw8gc\n",
      "wandb: Run `wandb offline` to turn off syncing.\n",
      "wandb: Syncing run electric-sweep-1\n",
      "wandb:  View project at https://wandb.ai/uditmanav17/mlops-zc-wb\n",
      "wandb:  View sweep at https://wandb.ai/uditmanav17/mlops-zc-wb/sweeps/nfnn0efu\n",
      "wandb:  View run at https://wandb.ai/uditmanav17/mlops-zc-wb/runs/t8tzw8gc\n",
      "wandb:   4 of 4 files downloaded.  \n",
      "wandb: Waiting for W&B process to finish... (success).\n",
      "wandb: \n",
      "wandb: Run history:\n",
      "wandb: MSE ▁\n",
      "wandb: \n",
      "wandb: Run summary:\n",
      "wandb: MSE 2.4641\n",
      "wandb: \n",
      "wandb:  View run electric-sweep-1 at: https://wandb.ai/uditmanav17/mlops-zc-wb/runs/t8tzw8gc\n",
      "wandb: Synced 5 W&B file(s), 0 media file(s), 1 artifact file(s) and 0 other file(s)\n",
      "wandb: Find logs at: .\\wandb\\run-20230602_134948-t8tzw8gc\\logs\n",
      "wandb: Agent Starting Run: 008ifrcx with config:\n",
      "wandb: \tmax_depth: 13\n",
      "wandb: \tmin_samples_leaf: 4\n",
      "wandb: \tmin_samples_split: 7\n",
      "wandb: \tn_estimators: 38\n",
      "wandb: Tracking run with wandb version 0.15.3\n",
      "wandb: Run data is saved locally in d:\\Programming\\Git\\mlops\\mlops-zoomcamp\\02-experiment-tracking\\wandb\\run-20230602_135016-008ifrcx\n",
      "wandb: Run `wandb offline` to turn off syncing.\n",
      "wandb: Syncing run restful-sweep-2\n",
      "wandb:  View project at https://wandb.ai/uditmanav17/mlops-zc-wb\n",
      "wandb:  View sweep at https://wandb.ai/uditmanav17/mlops-zc-wb/sweeps/nfnn0efu\n",
      "wandb:  View run at https://wandb.ai/uditmanav17/mlops-zc-wb/runs/008ifrcx\n",
      "wandb: \\ 2 of 4 files downloaded...\n",
      "wandb:   4 of 4 files downloaded.  \n",
      "wandb: Waiting for W&B process to finish... (success).\n",
      "wandb: \n",
      "wandb: Run history:\n",
      "wandb: MSE ▁\n",
      "wandb: \n",
      "wandb: Run summary:\n",
      "wandb: MSE 2.44983\n",
      "wandb: \n",
      "wandb:  View run restful-sweep-2 at: https://wandb.ai/uditmanav17/mlops-zc-wb/runs/008ifrcx\n",
      "wandb: Synced 5 W&B file(s), 0 media file(s), 1 artifact file(s) and 0 other file(s)\n",
      "wandb: Find logs at: .\\wandb\\run-20230602_135016-008ifrcx\\logs\n",
      "wandb: Sweep Agent: Waiting for job.\n",
      "wandb: Job received.\n",
      "wandb: Agent Starting Run: 0vj7dzp7 with config:\n",
      "wandb: \tmax_depth: 4\n",
      "wandb: \tmin_samples_leaf: 4\n",
      "wandb: \tmin_samples_split: 10\n",
      "wandb: \tn_estimators: 27\n",
      "wandb: - Waiting for wandb.init()...\n",
      "wandb: \\ Waiting for wandb.init()...\n",
      "wandb: Tracking run with wandb version 0.15.3\n",
      "wandb: Run data is saved locally in d:\\Programming\\Git\\mlops\\mlops-zoomcamp\\02-experiment-tracking\\wandb\\run-20230602_135106-0vj7dzp7\n",
      "wandb: Run `wandb offline` to turn off syncing.\n",
      "wandb: Syncing run fast-sweep-3\n",
      "wandb:  View project at https://wandb.ai/uditmanav17/mlops-zc-wb\n",
      "wandb:  View sweep at https://wandb.ai/uditmanav17/mlops-zc-wb/sweeps/nfnn0efu\n",
      "wandb:  View run at https://wandb.ai/uditmanav17/mlops-zc-wb/runs/0vj7dzp7\n",
      "wandb:   4 of 4 files downloaded.  \n",
      "wandb: Waiting for W&B process to finish... (success).\n",
      "wandb: \n",
      "wandb: Run history:\n",
      "wandb: MSE ▁\n",
      "wandb: \n",
      "wandb: Run summary:\n",
      "wandb: MSE 2.46595\n",
      "wandb: \n",
      "wandb:  View run fast-sweep-3 at: https://wandb.ai/uditmanav17/mlops-zc-wb/runs/0vj7dzp7\n",
      "wandb: Synced 5 W&B file(s), 0 media file(s), 1 artifact file(s) and 0 other file(s)\n",
      "wandb: Find logs at: .\\wandb\\run-20230602_135106-0vj7dzp7\\logs\n",
      "wandb: Agent Starting Run: i5moasjj with config:\n",
      "wandb: \tmax_depth: 2\n",
      "wandb: \tmin_samples_leaf: 2\n",
      "wandb: \tmin_samples_split: 4\n",
      "wandb: \tn_estimators: 38\n",
      "wandb: Tracking run with wandb version 0.15.3\n",
      "wandb: Run data is saved locally in d:\\Programming\\Git\\mlops\\mlops-zoomcamp\\02-experiment-tracking\\wandb\\run-20230602_135135-i5moasjj\n",
      "wandb: Run `wandb offline` to turn off syncing.\n",
      "wandb: Syncing run giddy-sweep-4\n",
      "wandb:  View project at https://wandb.ai/uditmanav17/mlops-zc-wb\n",
      "wandb:  View sweep at https://wandb.ai/uditmanav17/mlops-zc-wb/sweeps/nfnn0efu\n",
      "wandb:  View run at https://wandb.ai/uditmanav17/mlops-zc-wb/runs/i5moasjj\n",
      "wandb:   4 of 4 files downloaded.  \n",
      "wandb: Waiting for W&B process to finish... (success).\n",
      "wandb: \n",
      "wandb: Run history:\n",
      "wandb: MSE ▁\n",
      "wandb: \n",
      "wandb: Run summary:\n",
      "wandb: MSE 2.48566\n",
      "wandb: \n",
      "wandb:  View run giddy-sweep-4 at: https://wandb.ai/uditmanav17/mlops-zc-wb/runs/i5moasjj\n",
      "wandb: Synced 5 W&B file(s), 0 media file(s), 1 artifact file(s) and 0 other file(s)\n",
      "wandb: Find logs at: .\\wandb\\run-20230602_135135-i5moasjj\\logs\n",
      "wandb: Sweep Agent: Waiting for job.\n",
      "wandb: Job received.\n",
      "wandb: Agent Starting Run: b2crj7ae with config:\n",
      "wandb: \tmax_depth: 4\n",
      "wandb: \tmin_samples_leaf: 3\n",
      "wandb: \tmin_samples_split: 10\n",
      "wandb: \tn_estimators: 45\n",
      "wandb: Tracking run with wandb version 0.15.3\n",
      "wandb: Run data is saved locally in d:\\Programming\\Git\\mlops\\mlops-zoomcamp\\02-experiment-tracking\\wandb\\run-20230602_135208-b2crj7ae\n",
      "wandb: Run `wandb offline` to turn off syncing.\n",
      "wandb: Syncing run comic-sweep-5\n",
      "wandb:  View project at https://wandb.ai/uditmanav17/mlops-zc-wb\n",
      "wandb:  View sweep at https://wandb.ai/uditmanav17/mlops-zc-wb/sweeps/nfnn0efu\n",
      "wandb:  View run at https://wandb.ai/uditmanav17/mlops-zc-wb/runs/b2crj7ae\n",
      "wandb:   4 of 4 files downloaded.  \n",
      "wandb: Waiting for W&B process to finish... (success).\n",
      "wandb: \n",
      "wandb: Run history:\n",
      "wandb: MSE ▁\n",
      "wandb: \n",
      "wandb: Run summary:\n",
      "wandb: MSE 2.4641\n",
      "wandb: \n",
      "wandb:  View run comic-sweep-5 at: https://wandb.ai/uditmanav17/mlops-zc-wb/runs/b2crj7ae\n",
      "wandb: Synced 5 W&B file(s), 0 media file(s), 1 artifact file(s) and 0 other file(s)\n",
      "wandb: Find logs at: .\\wandb\\run-20230602_135208-b2crj7ae\\logs\n"
     ]
    }
   ],
   "source": [
    "!python hw-wandb/sweep.py \\\n",
    "  --wandb_project \"mlops-zc-wb\" \\\n",
    "  --wandb_entity \"uditmanav17\" \\\n",
    "  --data_artifact \"uditmanav17/mlops-zc-wb/NYC-Taxi:v0\""
   ]
  },
  {
   "attachments": {},
   "cell_type": "markdown",
   "metadata": {},
   "source": [
    "### Q5. Link the best model to the model registry\n",
    "\n",
    "![Alt text](wandb.png)"
   ]
  }
 ],
 "metadata": {
  "kernelspec": {
   "display_name": "mlops-zc",
   "language": "python",
   "name": "python3"
  },
  "language_info": {
   "codemirror_mode": {
    "name": "ipython",
    "version": 3
   },
   "file_extension": ".py",
   "mimetype": "text/x-python",
   "name": "python",
   "nbconvert_exporter": "python",
   "pygments_lexer": "ipython3",
   "version": "3.10.11"
  },
  "orig_nbformat": 4
 },
 "nbformat": 4,
 "nbformat_minor": 2
}
